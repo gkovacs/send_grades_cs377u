{
 "cells": [
  {
   "cell_type": "code",
   "execution_count": 2,
   "metadata": {},
   "outputs": [
    {
     "name": "stdout",
     "output_type": "stream",
     "text": [
      "[NbConvertApp] Converting notebook send_grades.ipynb to python\r\n"
     ]
    }
   ],
   "source": [
    "# noexport\n",
    "\n",
    "!typech send_grades.ipynb"
   ]
  },
  {
   "cell_type": "code",
   "execution_count": null,
   "metadata": {},
   "outputs": [],
   "source": [
    "import csv\n",
    "import yaml\n",
    "from memoize import memoize\n",
    "from copy import copy"
   ]
  },
  {
   "cell_type": "code",
   "execution_count": null,
   "metadata": {},
   "outputs": [],
   "source": [
    "def fix_emails_in_member_info_list(member_info_list):\n",
    "  member_info_list_new = []\n",
    "  for member_info in member_info_list:\n",
    "    member_info = copy(member_info)\n",
    "    if '@' not in member_info['email']:\n",
    "      member_info['email'] = member_info['email'] + '@stanford.edu'\n",
    "    member_info_list_new.append(member_info)\n",
    "  return member_info_list_new\n",
    "\n",
    "@memoize\n",
    "def get_team_name_to_member_info():\n",
    "  output = {}\n",
    "  for team_name,member_info_list in yaml.load(open('teams.yaml', 'rt')).items():\n",
    "    output[team_name] = fix_emails_in_member_info_list(member_info_list)\n",
    "  return output\n",
    "\n",
    "def get_members_on_team(team_name):\n",
    "  return get_team_name_to_member_info()[team_name]\n",
    "\n",
    "@memoize\n",
    "def list_teams():\n",
    "  return sorted(list(get_team_name_to_member_info().keys()))\n",
    "\n",
    "@memoize\n",
    "def get_grader_info_list():\n",
    "  return fix_emails_in_member_info_list(yaml.load(open('graders.yaml', 'rt')))"
   ]
  },
  {
   "cell_type": "code",
   "execution_count": null,
   "metadata": {},
   "outputs": [],
   "source": [
    "def make_line_dict(header_fields, line_entries):\n",
    "  output = {}\n",
    "  for idx,header in enumerate(header_fields):\n",
    "    entry = line_entries[idx]\n",
    "    output[header] = entry\n",
    "  return output\n",
    "\n",
    "def parse_feedback(grades_file):\n",
    "  is_header = True\n",
    "  header_fields = None\n",
    "  field_to_idx = None\n",
    "  output = {}\n",
    "  prev_line_dict = None\n",
    "  for entries in csv.reader(open(grades_file, 'rt')):\n",
    "    if is_header:\n",
    "      header_fields = entries\n",
    "      is_header = False\n",
    "      continue\n",
    "    line_dict = make_line_dict(header_fields, entries)\n",
    "    if line_dict['Team Name'] == '':\n",
    "      line_dict['Team Name'] = prev_line_dict['Team Name']\n",
    "    team_name = line_dict['Team Name']\n",
    "    grader = line_dict['Grader']\n",
    "    prev_line_dict = copy(line_dict)\n",
    "    blacklist = [\n",
    "      'Team Name',\n",
    "      'Grader',\n",
    "      'Total',\n",
    "      'Notes',\n",
    "      '',\n",
    "    ]\n",
    "    subcategories = [x for x in header_fields if x not in blacklist]\n",
    "    info_dict = {}\n",
    "    for x in subcategories:\n",
    "      info_dict[x] = line_dict[x]\n",
    "    score_subcategories = []\n",
    "    for x in subcategories:\n",
    "      try:\n",
    "        int(info_dict[x])\n",
    "        score_subcategories.append(x)\n",
    "      except:\n",
    "        continue\n",
    "    for x in score_subcategories:\n",
    "      info_dict[x] = int(info_dict[x])\n",
    "    total_score = sum([info_dict[x] for x in score_subcategories])\n",
    "    if team_name not in output:\n",
    "      output[team_name] = {\n",
    "        'Team': team_name,\n",
    "        'Score': total_score,\n",
    "        'Comments': {}\n",
    "      }\n",
    "    else:\n",
    "      output[team_name]['Score'] = (output[team_name]['Score'] + total_score) / 2\n",
    "    if grader not in output[team_name]['Comments']:\n",
    "      output[team_name]['Comments'][grader] = {}\n",
    "    output[team_name]['Comments'][grader] = info_dict\n",
    "  return output\n",
    "\n"
   ]
  },
  {
   "cell_type": "code",
   "execution_count": null,
   "metadata": {},
   "outputs": [],
   "source": [
    "# using SendGrid's Python Library\n",
    "# https://github.com/sendgrid/sendgrid-python\n",
    "import sendgrid\n",
    "import os\n",
    "from sendgrid.helpers.mail import *\n",
    "from getsecret import getsecret\n",
    "\n",
    "def send_email(recipient_info_list, cc_info_list, message_body, assignment_num, really_send=False):\n",
    "  sg = sendgrid.SendGridAPIClient(getsecret('SENDGRID_API_KEY'))\n",
    "  message = {}\n",
    "  message['personalizations'] = [\n",
    "    {\n",
    "      'to': [],\n",
    "      'cc': [],\n",
    "      'subject': 'CS 377U Assignment Grades ' + str(assignment_num),      \n",
    "    }\n",
    "  ]\n",
    "  for recipient_info in recipient_info_list:\n",
    "    message['personalizations'][0]['to'].append({\n",
    "      'email': recipient_info['email'],\n",
    "      'name': recipient_info['name'],\n",
    "    })\n",
    "  for recipient_info in cc_info_list:\n",
    "    message['personalizations'][0]['cc'].append({\n",
    "      'email': recipient_info['email'],\n",
    "      'name': recipient_info['name'],\n",
    "    })\n",
    "  message['from'] = {\n",
    "    'email': getsecret('SENDER_EMAIL'),\n",
    "    'name': getsecret('SENDER_NAME'),\n",
    "  }\n",
    "  message['content'] = [\n",
    "    {\n",
    "      'type': 'text/plain',\n",
    "      'value': message_body,\n",
    "    }\n",
    "  ]\n",
    "  if not really_send:\n",
    "    print(message)\n",
    "    return\n",
    "  #response = sg.send(message)\n",
    "  #print(response.status_code)\n",
    "  #print(response.body)\n",
    "  #print(response.headers)"
   ]
  },
  {
   "cell_type": "code",
   "execution_count": null,
   "metadata": {},
   "outputs": [],
   "source": [
    "def main():\n",
    "  assignment_num = 1\n",
    "  really_send = False\n",
    "  parsed_feedback = parse_feedback(str(assignment_num) + '.csv')\n",
    "  for team_name in list_teams():\n",
    "    feedback = parsed_feedback[team_name]\n",
    "    email_body = yaml.safe_dump(feedback, default_flow_style = False, allow_unicode = True)\n",
    "    send_email(get_members_on_team(team_name), get_grader_info_list(), email_body, assignment_num, really_send)\n"
   ]
  },
  {
   "cell_type": "code",
   "execution_count": null,
   "metadata": {},
   "outputs": [],
   "source": [
    "# noexport\n",
    "\n",
    "main()"
   ]
  }
 ],
 "metadata": {
  "kernelspec": {
   "display_name": "Python 3",
   "language": "python",
   "name": "python3"
  },
  "language_info": {
   "codemirror_mode": {
    "name": "ipython",
    "version": 3
   },
   "file_extension": ".py",
   "mimetype": "text/x-python",
   "name": "python",
   "nbconvert_exporter": "python",
   "pygments_lexer": "ipython3",
   "version": "3.7.2"
  }
 },
 "nbformat": 4,
 "nbformat_minor": 2
}
